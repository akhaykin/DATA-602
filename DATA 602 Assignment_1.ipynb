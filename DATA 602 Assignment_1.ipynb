{
 "cells": [
  {
   "cell_type": "code",
   "execution_count": 8,
   "id": "810e89c9",
   "metadata": {},
   "outputs": [
    {
     "name": "stdout",
     "output_type": "stream",
     "text": [
      "Enter the score for test 1: 95\n",
      "Enter the score for test 2: 96\n",
      "Enter the score for test 3: 94\n",
      "The average score is 95.0\n",
      "Congratulations!\n",
      "That is a great average!\n"
     ]
    }
   ],
   "source": [
    "#Q1 Fix all the syntax and logical errors in the given source code \n",
    "#add comments to explain your reasoning\n",
    "\n",
    "# This program gets three test scores and displays their average.  It congratulates the user if the \n",
    "# average is a high score. The high score variable holds the value that is considered a high score.\n",
    "\n",
    "HIGH_SCORE = 95\n",
    " \n",
    "# Get the test scores.\n",
    "test1 = int(input('Enter the score for test 1: '))#to convert to number \n",
    "test2 = int(input('Enter the score for test 2: '))#to convert to number\n",
    "test3 = int(input('Enter the score for test 3: '))#to convert to number\n",
    "# Calculate the average test score.\n",
    "average = (test1 + test2 + test3)/3 #added paranthesis and deleted spaces\n",
    "# Print the average.\n",
    "print('The average score is', average)\n",
    "# If the average is a high score,\n",
    "# congratulate the user.\n",
    "if average >= HIGH_SCORE:\n",
    "    print('Congratulations!')\n",
    "print('That is a great average!')\n"
   ]
  },
  {
   "cell_type": "code",
   "execution_count": 13,
   "id": "ddb15456",
   "metadata": {},
   "outputs": [
    {
     "name": "stdout",
     "output_type": "stream",
     "text": [
      "Enter length for rectangle #1: 4\n",
      "Enter width for rectangle #1: 6\n",
      "Enter length for rectangle #2: 2\n",
      "Enter width for rectangle #2: 3\n",
      "24.0\n",
      "6.0\n"
     ]
    }
   ],
   "source": [
    "#Q2\n",
    "#The area of a rectangle is the rectangle’s length times its width. Write a program that asks for the length and width of two rectangles and prints to the user the area of both rectangles. \n",
    "\n",
    "\n",
    "length_1 = float(input('Enter length for rectangle #1: ')) #length of trinage 1\n",
    "width_1 = float(input('Enter width for rectangle #1: ')) #width for triangle 1\n",
    "area_1 = length_1 * width_1\n",
    "\n",
    "\n",
    "length_2 = float(input('Enter length for rectangle #2: ')) #length of trinage 2\n",
    "width_2 = float(input('Enter width for rectangle #2: ')) #width for triangle 2\n",
    "area_2 = length_2 * width_2\n",
    "\n",
    "print(area_1)\n",
    "print(area_2)"
   ]
  },
  {
   "cell_type": "code",
   "execution_count": 38,
   "id": "d3db106f",
   "metadata": {},
   "outputs": [
    {
     "name": "stdout",
     "output_type": "stream",
     "text": [
      "Enter name: Alex\n",
      "Enter age: 41\n",
      "Happy birthday, Alex!You are 41 years old today!\n"
     ]
    }
   ],
   "source": [
    "#Q3 \n",
    "#Ask a user to enter their first name and their age and assign it to the variables name and age. \n",
    "#The variable name should be a string and the variable age should be an int.  \n",
    "\n",
    "\n",
    "name = str(input('Enter name: '))\n",
    "age = int(input('Enter age: '))\n",
    "\n",
    "print(\"Happy birthday, \" + name +\"!\"  + \"You are\", age, \"years old today!\")\n",
    "\n",
    "\n"
   ]
  },
  {
   "cell_type": "code",
   "execution_count": 37,
   "id": "4e7718aa",
   "metadata": {},
   "outputs": [],
   "source": [
    "#Using the variables name and age, print a message to the user stating something along the lines of:\n",
    "# \"Happy birthday, name!  You are age years old today!\""
   ]
  },
  {
   "cell_type": "code",
   "execution_count": null,
   "id": "0567fc6f",
   "metadata": {},
   "outputs": [],
   "source": []
  },
  {
   "cell_type": "code",
   "execution_count": null,
   "id": "88417425",
   "metadata": {},
   "outputs": [],
   "source": []
  },
  {
   "cell_type": "code",
   "execution_count": null,
   "id": "2737f2d8",
   "metadata": {},
   "outputs": [],
   "source": []
  },
  {
   "cell_type": "code",
   "execution_count": null,
   "id": "18e2e4e1",
   "metadata": {},
   "outputs": [],
   "source": []
  },
  {
   "cell_type": "code",
   "execution_count": null,
   "id": "789f6bbc",
   "metadata": {},
   "outputs": [],
   "source": []
  },
  {
   "cell_type": "code",
   "execution_count": null,
   "id": "c7a2178b",
   "metadata": {},
   "outputs": [],
   "source": []
  }
 ],
 "metadata": {
  "kernelspec": {
   "display_name": "Python 3 (ipykernel)",
   "language": "python",
   "name": "python3"
  },
  "language_info": {
   "codemirror_mode": {
    "name": "ipython",
    "version": 3
   },
   "file_extension": ".py",
   "mimetype": "text/x-python",
   "name": "python",
   "nbconvert_exporter": "python",
   "pygments_lexer": "ipython3",
   "version": "3.9.13"
  }
 },
 "nbformat": 4,
 "nbformat_minor": 5
}
